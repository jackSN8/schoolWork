{
  "nbformat": 4,
  "nbformat_minor": 0,
  "metadata": {
    "colab": {
      "provenance": [],
      "authorship_tag": "ABX9TyO0g7yWbjD0DP0qHAeaqlbL",
      "include_colab_link": true
    },
    "kernelspec": {
      "name": "python3",
      "display_name": "Python 3"
    },
    "language_info": {
      "name": "python"
    }
  },
  "cells": [
    {
      "cell_type": "markdown",
      "metadata": {
        "id": "view-in-github",
        "colab_type": "text"
      },
      "source": [
        "<a href=\"https://colab.research.google.com/github/jackSN8/schoolWork/blob/main/Phys29Sec1.ipynb\" target=\"_parent\"><img src=\"https://colab.research.google.com/assets/colab-badge.svg\" alt=\"Open In Colab\"/></a>"
      ]
    },
    {
      "cell_type": "code",
      "execution_count": 3,
      "metadata": {
        "colab": {
          "base_uri": "https://localhost:8080/"
        },
        "id": "sL6X8LA0wbZy",
        "outputId": "a75d4d42-68ca-4d9b-faff-95f48e6c6c49"
      },
      "outputs": [
        {
          "output_type": "stream",
          "name": "stdout",
          "text": [
            "14\n"
          ]
        }
      ],
      "source": [
        "x=3\n",
        "y=x*x+5\n",
        "print(y)"
      ]
    },
    {
      "cell_type": "code",
      "source": [
        "#Mass of Earth!\n",
        "import math as math\n",
        "#a=gm/r^2\n",
        "#m=ar^2/g\n",
        "#G=6.673*math.pow(10,(-11))\n",
        "G=6.673*10**(-11)\n",
        "R=6.378*10**6\n",
        "a=9.807\n",
        "print(f\"mass of Earth is {a*(R*R)/G}kg\")\n"
      ],
      "metadata": {
        "colab": {
          "base_uri": "https://localhost:8080/"
        },
        "id": "sfTkEq2jwyLl",
        "outputId": "63f57d54-2435-42a0-dc7d-e87e93c6a741"
      },
      "execution_count": 47,
      "outputs": [
        {
          "output_type": "stream",
          "name": "stdout",
          "text": [
            "mass of Earth is 5.978387762445676e+24kg\n"
          ]
        }
      ]
    },
    {
      "cell_type": "code",
      "source": [
        "#Velocity thingie!\n",
        "#dy = vt-0.5gt^2\n",
        "import numpy as np\n",
        "\n",
        "#0.5gt^2-vt+y=0\n",
        "\n",
        "v= 20\n",
        "g=9.8\n",
        "y=15\n",
        "coefs = [g*0.5,-v,y]\n",
        "rootAr = [np.roots(coefs)]##These are roots may not be actual solution\n",
        "print(rootAr)\n",
        "###Actual solution is lowest positive real root\n",
        "##So for this case, 0.99 secs after liftoff, numpy root being wierd so may not make code nice\n",
        "##I get imaginary roots if v is not enough to reach height\n",
        "\n",
        "import numpy as np\n",
        "\n",
        "def find_lowest_real_root(roots):\n",
        "    roots = np.array(roots, dtype=np.complex)\n",
        "    real_roots = np.real(roots[np.imag(roots) == 0])\n",
        "    real_roots.sort()\n",
        "    for root in real_roots:\n",
        "        if root > 0:\n",
        "            return root\n",
        "    return None\n",
        "\n",
        "\n",
        "r=find_lowest_real_root(rootAr)\n",
        "print(f\"the time to reach that height is {r} seconds -- if says none then height is not reached\")\n",
        "\n",
        "\n",
        "\n",
        "\n",
        "\n",
        "\n",
        "\n"
      ],
      "metadata": {
        "colab": {
          "base_uri": "https://localhost:8080/"
        },
        "id": "6TZ1L1ziwkIK",
        "outputId": "23d300da-cd17-46d8-c3d8-5f1744c47a02"
      },
      "execution_count": 48,
      "outputs": [
        {
          "output_type": "stream",
          "name": "stdout",
          "text": [
            "[array([1.02040816+1.42126411j, 1.02040816-1.42126411j])]\n",
            "the time to reach that height is None seconds\n"
          ]
        },
        {
          "output_type": "stream",
          "name": "stderr",
          "text": [
            "<ipython-input-48-fbff37fe063e>:20: DeprecationWarning: `np.complex` is a deprecated alias for the builtin `complex`. To silence this warning, use `complex` by itself. Doing this will not modify any behavior and is safe. If you specifically wanted the numpy scalar type, use `np.complex128` here.\n",
            "Deprecated in NumPy 1.20; for more details and guidance: https://numpy.org/devdocs/release/1.20.0-notes.html#deprecations\n",
            "  roots = np.array(roots, dtype=np.complex)\n"
          ]
        }
      ]
    },
    {
      "cell_type": "code",
      "source": [
        "##Plank Constant !!!\n",
        "import math as math\n",
        "##B=(2hf^3)/(c^2*e^(hf\\kt))\n",
        "f=5*10**13#hz\n",
        "t=500#Kelvin\n",
        "h=6.626*10**-34\n",
        "k=1.38*10**-23\n",
        "c=3*10**8\n",
        "\n",
        "\n",
        "  #top part, 2hf^3        #bottom, c^2*e^(hv/kt)\n",
        "b=(2*h*f**3)       /      (c**2*(math.e)**((h*f)/(k*t))-1)\n",
        "print(b)\n"
      ],
      "metadata": {
        "colab": {
          "base_uri": "https://localhost:8080/"
        },
        "id": "UjjB_pgZ2mkG",
        "outputId": "4a09f0f4-8915-4693-bc82-1fd953231302"
      },
      "execution_count": 37,
      "outputs": [
        {
          "output_type": "stream",
          "name": "stdout",
          "text": [
            "1.5125369933567028e-11\n"
          ]
        }
      ]
    }
  ]
}