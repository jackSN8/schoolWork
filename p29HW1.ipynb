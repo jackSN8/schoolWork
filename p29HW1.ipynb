{
  "nbformat": 4,
  "nbformat_minor": 0,
  "metadata": {
    "colab": {
      "provenance": [],
      "authorship_tag": "ABX9TyPrB0siC10acWljtLU952KD",
      "include_colab_link": true
    },
    "kernelspec": {
      "name": "python3",
      "display_name": "Python 3"
    },
    "language_info": {
      "name": "python"
    }
  },
  "cells": [
    {
      "cell_type": "markdown",
      "metadata": {
        "id": "view-in-github",
        "colab_type": "text"
      },
      "source": [
        "<a href=\"https://colab.research.google.com/github/jackSN8/schoolWork/blob/main/p29HW1.ipynb\" target=\"_parent\"><img src=\"https://colab.research.google.com/assets/colab-badge.svg\" alt=\"Open In Colab\"/></a>"
      ]
    },
    {
      "cell_type": "code",
      "execution_count": 1,
      "metadata": {
        "colab": {
          "base_uri": "https://localhost:8080/"
        },
        "id": "jLTgLrV2mnDl",
        "outputId": "14089f9d-bf76-42a0-bf91-514269d5101c"
      },
      "outputs": [
        {
          "output_type": "stream",
          "name": "stdout",
          "text": [
            "mass is 1.9886592783713665e+30\n"
          ]
        }
      ],
      "source": [
        "#M=(4pi^2a^3)/gt^2\n",
        "import numpy as np\n",
        "G=6.674*10**-11\n",
        "a=1.496*10**11\n",
        "t=86400*365.25\n",
        "m=(np.pi**2*4*a**3)/(G*t**2)\n",
        "print(f\"mass of sun is {m}kg\")"
      ]
    },
    {
      "cell_type": "code",
      "source": [
        "#df = gm/r1^2-gm/r2^2\n",
        "G=6.674*10**-11\n",
        "M=7.35*10**22\n",
        "Rm=3.85*10**8\n",
        "Re=6.38*10**6\n",
        "df = (G*M)/((Rm-Re/2)**2)-(G*M)/((Rm+Re/2)**2)\n",
        "print(f\"actual tidal dif is {df}N\")\n",
        "#df/dr = -2gm/r^3\n",
        "adf=(-2*G*M)*-Re/(Rm**3)\n",
        "print(f\"approx tidal dif is {adf}N\")\n",
        "print(f\"difference is {100-(adf*100/df)}%\")\n"
      ],
      "metadata": {
        "colab": {
          "base_uri": "https://localhost:8080/"
        },
        "id": "XnRQWHM4n-Ut",
        "outputId": "6c4d1dea-f57a-43f5-9add-709de66e8393"
      },
      "execution_count": 8,
      "outputs": [
        {
          "output_type": "stream",
          "name": "stdout",
          "text": [
            "actual tidal dif is 1.0969874538146703e-06N\n",
            "approx tidal dif is 1.096836835891381e-06N\n",
            "difference is 0.013730140920543477%\n"
          ]
        }
      ]
    }
  ]
}